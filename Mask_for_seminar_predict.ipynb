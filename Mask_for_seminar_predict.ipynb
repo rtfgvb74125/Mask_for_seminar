{
 "cells": [
  {
   "cell_type": "code",
   "execution_count": 1,
   "metadata": {},
   "outputs": [],
   "source": [
    "import tensorflow as tf\n",
    "import numpy as np\n",
    "import pandas as pd\n",
    "import cv2\n",
    "import matplotlib.pyplot as plt\n",
    "import matplotlib.image as mpimg\n",
    "from sklearn.metrics import confusion_matrix\n",
    "import os\n",
    "from tensorflow.keras import utils\n",
    "\n",
    "# 進度條模組\n",
    "from tqdm import tqdm\n",
    "%matplotlib inline"
   ]
  },
  {
   "cell_type": "code",
   "execution_count": 2,
   "metadata": {},
   "outputs": [
    {
     "name": "stdout",
     "output_type": "stream",
     "text": [
      "WARNING:tensorflow:From <ipython-input-2-0f3f18d6550c>:3: is_gpu_available (from tensorflow.python.framework.test_util) is deprecated and will be removed in a future version.\n",
      "Instructions for updating:\n",
      "Use `tf.config.list_physical_devices('GPU')` instead.\n"
     ]
    },
    {
     "data": {
      "text/plain": [
       "True"
      ]
     },
     "execution_count": 2,
     "metadata": {},
     "output_type": "execute_result"
    }
   ],
   "source": [
    "#檢測tensorflow gpu是否啟用\n",
    "tf.config.list_physical_devices(\"GPU\")\n",
    "tf.test.is_gpu_available()"
   ]
  },
  {
   "cell_type": "code",
   "execution_count": 3,
   "metadata": {},
   "outputs": [
    {
     "name": "stdout",
     "output_type": "stream",
     "text": [
      "{'normal': 0, 'error_ear': 1, 'error_iron': 2, 'error_solder': 3, 'noearing': 4, 'noiron': 5, 'NG': 6}\n"
     ]
    }
   ],
   "source": [
    "# 8種類\n",
    "class_names = ['normal' , 'error_ear' , 'error_iron' , 'error_solder' , 'noearing' , 'noiron' , 'NG']\n",
    "\n",
    "# 只挑選5類實驗\n",
    "# class_names = ['normal'  , 'error_iron' , 'error_ear' , 'noiron' , 'noearing']\n",
    "\n",
    "class_names_label = {class_name:i for i,class_name in enumerate(class_names)}\n",
    "print(class_names_label)\n",
    "\n",
    "nb_classes = len(class_names)\n",
    "\n",
    "IMAGE_SIZE = (70 , 120)"
   ]
  },
  {
   "cell_type": "code",
   "execution_count": 4,
   "metadata": {},
   "outputs": [],
   "source": [
    "def to_grayscale(image):\n",
    "#     image = cv2.cvtColor(image, cv2.COLOR_BGR2GRAY)\n",
    "    image = tf.image.rgb_to_grayscale(image)\n",
    "    image = tf.image.grayscale_to_rgb(image)\n",
    "    return image"
   ]
  },
  {
   "cell_type": "code",
   "execution_count": 5,
   "metadata": {},
   "outputs": [
    {
     "name": "stdout",
     "output_type": "stream",
     "text": [
      "Found 2399 images belonging to 7 classes.\n",
      "2399\n"
     ]
    }
   ],
   "source": [
    "from tensorflow.keras.preprocessing.image import ImageDataGenerator\n",
    "\n",
    "Val_datagen = ImageDataGenerator(rescale = 1/255\n",
    "                                ,preprocessing_function = to_grayscale)\n",
    "\n",
    "\n",
    "Batch_Size = 8\n",
    "\n",
    "test_generator = Val_datagen.flow_from_directory('E://mask_data//20211224_data//test',#类别子文件夹的上一级文件夹\n",
    "                                    batch_size=Batch_Size,\n",
    "                                    shuffle=True,\n",
    "                                    target_size=IMAGE_SIZE,\n",
    "                                    )\n",
    "\n",
    "print(test_generator.n)"
   ]
  },
  {
   "cell_type": "code",
   "execution_count": 6,
   "metadata": {},
   "outputs": [
    {
     "name": "stdout",
     "output_type": "stream",
     "text": [
      "['NG', 'error_ear', 'error_iron', 'error_solder', 'noearing', 'noiron', 'normal']\n"
     ]
    }
   ],
   "source": [
    "pred_path = 'E://mask_data//20211224_data//test//'\n",
    "pred_data = list(test_generator.class_indices.keys())\n",
    "print(pred_data)\n",
    "\n",
    "class_names = pred_data\n",
    "\n",
    "\n",
    "fp_count = 0\n",
    "labels = []\n",
    "images = []\n",
    "pred_labels = []\n",
    "y_predictions_All = []\n",
    "file_count = 0\n",
    "for pred_dir_name in pred_data:\n",
    "    pred_file_path = pred_path+pred_dir_name\n",
    "    pred_file_list = os.listdir(pred_file_path)\n",
    "    for file_name in pred_file_list:\n",
    "        file_count = file_count+1\n",
    "        image = cv2.imread(pred_file_path+'/'+file_name)\n",
    "        image = np.array(image)\n",
    "        image = cv2.resize(image,(120 , 70))\n",
    "        image = image/255\n",
    "        image = tf.image.rgb_to_grayscale(image)\n",
    "        image = tf.image.grayscale_to_rgb(image)\n",
    "        \n",
    "#         for model in model_file:\n",
    "#             model = tf.keras.models.load_model('20220208_(70_120)_model_acc_loss_pic_B0-B7//'+model)\n",
    "#             predictions = model.predict(test_generator)\n",
    "#             pred_labels = np.argmax(predictions, axis = 1) \n",
    "#             pred_labels = np.array(pred_labels,dtype = 'int32')\n",
    "#             y_predictions_All.append(pred_labels)\n",
    "        images.append(image)\n",
    "        labels.append(pred_data.index(pred_dir_name))\n",
    "        for_pred_labels = utils.to_categorical(labels , nb_classes , dtype = 'int32')"
   ]
  },
  {
   "cell_type": "code",
   "execution_count": 7,
   "metadata": {},
   "outputs": [],
   "source": [
    "images = np.array(images , dtype = 'float32')\n",
    "labels = np.array(labels , dtype = 'int32')"
   ]
  },
  {
   "cell_type": "code",
   "execution_count": 8,
   "metadata": {},
   "outputs": [
    {
     "data": {
      "text/plain": [
       "array([[1, 0, 0, ..., 0, 0, 0],\n",
       "       [1, 0, 0, ..., 0, 0, 0],\n",
       "       [1, 0, 0, ..., 0, 0, 0],\n",
       "       ...,\n",
       "       [0, 0, 0, ..., 0, 0, 1],\n",
       "       [0, 0, 0, ..., 0, 0, 1],\n",
       "       [0, 0, 0, ..., 0, 0, 1]])"
      ]
     },
     "execution_count": 8,
     "metadata": {},
     "output_type": "execute_result"
    }
   ],
   "source": [
    "for_pred_labels"
   ]
  },
  {
   "cell_type": "code",
   "execution_count": 9,
   "metadata": {},
   "outputs": [
    {
     "name": "stdout",
     "output_type": "stream",
     "text": [
      "19/19 [==============================] - 5s 91ms/step - loss: 0.9756 - accuracy: 0.8353\n",
      "test loss, test acc: [0.9755871295928955, 0.8353480696678162]\n"
     ]
    }
   ],
   "source": [
    "filepath = '20220208_(70_120)_model_acc_loss_pic_B0-B7//Mask_AOI-EfficientNetB0_0119_1_g.h5'\n",
    "model = tf.keras.models.load_model(filepath)\n",
    "\n",
    "results = model.evaluate(images, for_pred_labels, batch_size=128)\n",
    "print(\"test loss, test acc:\", results)"
   ]
  },
  {
   "cell_type": "code",
   "execution_count": 10,
   "metadata": {},
   "outputs": [
    {
     "data": {
      "text/plain": [
       "array([0, 0, 0, ..., 2, 6, 6])"
      ]
     },
     "execution_count": 10,
     "metadata": {},
     "output_type": "execute_result"
    }
   ],
   "source": [
    "predictions = model.predict(images)     \n",
    "pred_labels = np.argmax(predictions, axis = 1) \n",
    "pred_labels = np.array(pred_labels,dtype = 'int32')\n",
    "pred_labels"
   ]
  },
  {
   "cell_type": "code",
   "execution_count": 11,
   "metadata": {},
   "outputs": [
    {
     "data": {
      "image/png": "[encoded data removed]",
      "text/plain": [
       "<Figure size 432x288 with 2 Axes>"
      ]
     },
     "metadata": {
      "needs_background": "light"
     },
     "output_type": "display_data"
    }
   ],
   "source": [
    "import matplotlib.pyplot as plt\n",
    "from sklearn.metrics import confusion_matrix\n",
    "import itertools\n",
    "def plot_confusion_matrix(cm, classes,\n",
    "                          normalize=False,\n",
    "                          cmap=plt.cm.Oranges):\n",
    "    \"\"\"\n",
    "    This function prints and plots the confusion matrix.\n",
    "    Normalization can be applied by setting `normalize=True`.\n",
    "    \"\"\"\n",
    "    title='Mask-EfficientNetB0 confusion matrix'\n",
    "\n",
    "    \n",
    "    plt.imshow(cm, interpolation='nearest', cmap=cmap)\n",
    "    plt.title(title)\n",
    "    plt.colorbar()\n",
    "    tick_marks = np.arange(len(classes))\n",
    "    plt.xticks(tick_marks, classes, rotation=45)\n",
    "    plt.yticks(tick_marks, classes)\n",
    "\n",
    "    if normalize:\n",
    "        cm = cm.astype('float') / cm.sum(axis=1)[:, np.newaxis]\n",
    "\n",
    "    thresh = cm.max() / 2.\n",
    "    for i, j in itertools.product(range(cm.shape[0]), range(cm.shape[1])):\n",
    "        plt.text(j, i, cm[i, j],\n",
    "                 horizontalalignment=\"center\",\n",
    "                 color=\"white\" if cm[i, j] > thresh else \"black\")\n",
    "\n",
    "    plt.tight_layout()\n",
    "    plt.ylabel('True label')\n",
    "    plt.xlabel('Predicted label')\n",
    "#     plt.savefig('E://Mask_confusion//Mask-EvolvedB0.jpg')\n",
    "    plt.show()\n",
    "\n",
    "\n",
    "confusion_mtx = confusion_matrix(labels, pred_labels)\n",
    "plot_confusion_matrix(confusion_mtx, classes = class_names)"
   ]
  },
  {
   "cell_type": "code",
   "execution_count": null,
   "metadata": {},
   "outputs": [],
   "source": []
  }
 ],
 "metadata": {
  "kernelspec": {
   "display_name": "Python 3",
   "language": "python",
   "name": "python3"
  },
  "language_info": {
   "codemirror_mode": {
    "name": "ipython",
    "version": 3
   },
   "file_extension": ".py",
   "mimetype": "text/x-python",
   "name": "python",
   "nbconvert_exporter": "python",
   "pygments_lexer": "ipython3",
   "version": "3.8.3"
  }
 },
 "nbformat": 4,
 "nbformat_minor": 4
}
